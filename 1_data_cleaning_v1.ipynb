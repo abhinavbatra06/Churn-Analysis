{
 "cells": [
  {
   "cell_type": "code",
   "execution_count": 1,
   "metadata": {},
   "outputs": [],
   "source": [
    "# importing the required libraries\n",
    "\n",
    "import pandas as pd\n",
    "import numpy as np\n",
    "import matplotlib.pyplot as plt\n",
    "import seaborn as sns"
   ]
  },
  {
   "cell_type": "code",
   "execution_count": 2,
   "metadata": {},
   "outputs": [
    {
     "data": {
      "text/html": [
       "<div>\n",
       "<style scoped>\n",
       "    .dataframe tbody tr th:only-of-type {\n",
       "        vertical-align: middle;\n",
       "    }\n",
       "\n",
       "    .dataframe tbody tr th {\n",
       "        vertical-align: top;\n",
       "    }\n",
       "\n",
       "    .dataframe thead th {\n",
       "        text-align: right;\n",
       "    }\n",
       "</style>\n",
       "<table border=\"1\" class=\"dataframe\">\n",
       "  <thead>\n",
       "    <tr style=\"text-align: right;\">\n",
       "      <th></th>\n",
       "      <th>Customer ID</th>\n",
       "      <th>Gender</th>\n",
       "      <th>Age</th>\n",
       "      <th>Married</th>\n",
       "      <th>Number of Dependents</th>\n",
       "      <th>City</th>\n",
       "      <th>Zip Code</th>\n",
       "      <th>Latitude</th>\n",
       "      <th>Longitude</th>\n",
       "      <th>Number of Referrals</th>\n",
       "      <th>...</th>\n",
       "      <th>Payment Method</th>\n",
       "      <th>Monthly Charge</th>\n",
       "      <th>Total Charges</th>\n",
       "      <th>Total Refunds</th>\n",
       "      <th>Total Extra Data Charges</th>\n",
       "      <th>Total Long Distance Charges</th>\n",
       "      <th>Total Revenue</th>\n",
       "      <th>Customer Status</th>\n",
       "      <th>Churn Category</th>\n",
       "      <th>Churn Reason</th>\n",
       "    </tr>\n",
       "  </thead>\n",
       "  <tbody>\n",
       "    <tr>\n",
       "      <th>0</th>\n",
       "      <td>0002-ORFBO</td>\n",
       "      <td>Female</td>\n",
       "      <td>37</td>\n",
       "      <td>Yes</td>\n",
       "      <td>0</td>\n",
       "      <td>Frazier Park</td>\n",
       "      <td>93225</td>\n",
       "      <td>34.827662</td>\n",
       "      <td>-118.999073</td>\n",
       "      <td>2</td>\n",
       "      <td>...</td>\n",
       "      <td>Credit Card</td>\n",
       "      <td>65.6</td>\n",
       "      <td>593.30</td>\n",
       "      <td>0.00</td>\n",
       "      <td>0</td>\n",
       "      <td>381.51</td>\n",
       "      <td>974.81</td>\n",
       "      <td>Stayed</td>\n",
       "      <td>NaN</td>\n",
       "      <td>NaN</td>\n",
       "    </tr>\n",
       "    <tr>\n",
       "      <th>1</th>\n",
       "      <td>0003-MKNFE</td>\n",
       "      <td>Male</td>\n",
       "      <td>46</td>\n",
       "      <td>No</td>\n",
       "      <td>0</td>\n",
       "      <td>Glendale</td>\n",
       "      <td>91206</td>\n",
       "      <td>34.162515</td>\n",
       "      <td>-118.203869</td>\n",
       "      <td>0</td>\n",
       "      <td>...</td>\n",
       "      <td>Credit Card</td>\n",
       "      <td>-4.0</td>\n",
       "      <td>542.40</td>\n",
       "      <td>38.33</td>\n",
       "      <td>10</td>\n",
       "      <td>96.21</td>\n",
       "      <td>610.28</td>\n",
       "      <td>Stayed</td>\n",
       "      <td>NaN</td>\n",
       "      <td>NaN</td>\n",
       "    </tr>\n",
       "    <tr>\n",
       "      <th>2</th>\n",
       "      <td>0004-TLHLJ</td>\n",
       "      <td>Male</td>\n",
       "      <td>50</td>\n",
       "      <td>No</td>\n",
       "      <td>0</td>\n",
       "      <td>Costa Mesa</td>\n",
       "      <td>92627</td>\n",
       "      <td>33.645672</td>\n",
       "      <td>-117.922613</td>\n",
       "      <td>0</td>\n",
       "      <td>...</td>\n",
       "      <td>Bank Withdrawal</td>\n",
       "      <td>73.9</td>\n",
       "      <td>280.85</td>\n",
       "      <td>0.00</td>\n",
       "      <td>0</td>\n",
       "      <td>134.60</td>\n",
       "      <td>415.45</td>\n",
       "      <td>Churned</td>\n",
       "      <td>Competitor</td>\n",
       "      <td>Competitor had better devices</td>\n",
       "    </tr>\n",
       "    <tr>\n",
       "      <th>3</th>\n",
       "      <td>0011-IGKFF</td>\n",
       "      <td>Male</td>\n",
       "      <td>78</td>\n",
       "      <td>Yes</td>\n",
       "      <td>0</td>\n",
       "      <td>Martinez</td>\n",
       "      <td>94553</td>\n",
       "      <td>38.014457</td>\n",
       "      <td>-122.115432</td>\n",
       "      <td>1</td>\n",
       "      <td>...</td>\n",
       "      <td>Bank Withdrawal</td>\n",
       "      <td>98.0</td>\n",
       "      <td>1237.85</td>\n",
       "      <td>0.00</td>\n",
       "      <td>0</td>\n",
       "      <td>361.66</td>\n",
       "      <td>1599.51</td>\n",
       "      <td>Churned</td>\n",
       "      <td>Dissatisfaction</td>\n",
       "      <td>Product dissatisfaction</td>\n",
       "    </tr>\n",
       "    <tr>\n",
       "      <th>4</th>\n",
       "      <td>0013-EXCHZ</td>\n",
       "      <td>Female</td>\n",
       "      <td>75</td>\n",
       "      <td>Yes</td>\n",
       "      <td>0</td>\n",
       "      <td>Camarillo</td>\n",
       "      <td>93010</td>\n",
       "      <td>34.227846</td>\n",
       "      <td>-119.079903</td>\n",
       "      <td>3</td>\n",
       "      <td>...</td>\n",
       "      <td>Credit Card</td>\n",
       "      <td>83.9</td>\n",
       "      <td>267.40</td>\n",
       "      <td>0.00</td>\n",
       "      <td>0</td>\n",
       "      <td>22.14</td>\n",
       "      <td>289.54</td>\n",
       "      <td>Churned</td>\n",
       "      <td>Dissatisfaction</td>\n",
       "      <td>Network reliability</td>\n",
       "    </tr>\n",
       "  </tbody>\n",
       "</table>\n",
       "<p>5 rows × 38 columns</p>\n",
       "</div>"
      ],
      "text/plain": [
       "  Customer ID  Gender  Age Married  Number of Dependents          City  \\\n",
       "0  0002-ORFBO  Female   37     Yes                     0  Frazier Park   \n",
       "1  0003-MKNFE    Male   46      No                     0      Glendale   \n",
       "2  0004-TLHLJ    Male   50      No                     0    Costa Mesa   \n",
       "3  0011-IGKFF    Male   78     Yes                     0      Martinez   \n",
       "4  0013-EXCHZ  Female   75     Yes                     0     Camarillo   \n",
       "\n",
       "   Zip Code   Latitude   Longitude  Number of Referrals  ...   Payment Method  \\\n",
       "0     93225  34.827662 -118.999073                    2  ...      Credit Card   \n",
       "1     91206  34.162515 -118.203869                    0  ...      Credit Card   \n",
       "2     92627  33.645672 -117.922613                    0  ...  Bank Withdrawal   \n",
       "3     94553  38.014457 -122.115432                    1  ...  Bank Withdrawal   \n",
       "4     93010  34.227846 -119.079903                    3  ...      Credit Card   \n",
       "\n",
       "  Monthly Charge Total Charges  Total Refunds Total Extra Data Charges  \\\n",
       "0           65.6        593.30           0.00                        0   \n",
       "1           -4.0        542.40          38.33                       10   \n",
       "2           73.9        280.85           0.00                        0   \n",
       "3           98.0       1237.85           0.00                        0   \n",
       "4           83.9        267.40           0.00                        0   \n",
       "\n",
       "  Total Long Distance Charges Total Revenue  Customer Status   Churn Category  \\\n",
       "0                      381.51        974.81           Stayed              NaN   \n",
       "1                       96.21        610.28           Stayed              NaN   \n",
       "2                      134.60        415.45          Churned       Competitor   \n",
       "3                      361.66       1599.51          Churned  Dissatisfaction   \n",
       "4                       22.14        289.54          Churned  Dissatisfaction   \n",
       "\n",
       "                    Churn Reason  \n",
       "0                            NaN  \n",
       "1                            NaN  \n",
       "2  Competitor had better devices  \n",
       "3        Product dissatisfaction  \n",
       "4            Network reliability  \n",
       "\n",
       "[5 rows x 38 columns]"
      ]
     },
     "execution_count": 2,
     "metadata": {},
     "output_type": "execute_result"
    }
   ],
   "source": [
    "# import the dataset \n",
    "\n",
    "df = pd.read_csv('telecom_customer_churn.csv')\n",
    "df.head()\n",
    "\n",
    "# printing the columns of the dataset\n",
    "#print(df.columns)"
   ]
  },
  {
   "cell_type": "code",
   "execution_count": 3,
   "metadata": {},
   "outputs": [
    {
     "name": "stdout",
     "output_type": "stream",
     "text": [
      "Index(['Customer_ID', 'Gender', 'Age', 'Married', 'Number_of_Dependents',\n",
      "       'City', 'Zip_Code', 'Latitude', 'Longitude', 'Number_of_Referrals',\n",
      "       'Tenure_in_Months', 'Offer', 'Phone_Service',\n",
      "       'Avg_Monthly_Long_Distance_Charges', 'Multiple_Lines',\n",
      "       'Internet_Service', 'Internet_Type', 'Avg_Monthly_GB_Download',\n",
      "       'Online_Security', 'Online_Backup', 'Device_Protection_Plan',\n",
      "       'Premium_Tech_Support', 'Streaming_TV', 'Streaming_Movies',\n",
      "       'Streaming_Music', 'Unlimited_Data', 'Contract', 'Paperless_Billing',\n",
      "       'Payment_Method', 'Monthly_Charge', 'Total_Charges', 'Total_Refunds',\n",
      "       'Total_Extra_Data_Charges', 'Total_Long_Distance_Charges',\n",
      "       'Total_Revenue', 'Customer_Status', 'Churn_Category', 'Churn_Reason'],\n",
      "      dtype='object')\n"
     ]
    }
   ],
   "source": [
    "# removing spaces from the column names\n",
    "df.columns = df.columns.str.replace(' ', '_')\n",
    "\n",
    "# printing the columns of the dataset after removing spaces\n",
    "print(df.columns)"
   ]
  },
  {
   "cell_type": "code",
   "execution_count": 4,
   "metadata": {},
   "outputs": [
    {
     "data": {
      "text/plain": [
       "Series([], Name: count, dtype: int64)"
      ]
     },
     "execution_count": 4,
     "metadata": {},
     "output_type": "execute_result"
    }
   ],
   "source": [
    "# data check \n",
    "\n",
    "df[df['Phone_Service'] == 'No']['Avg_Monthly_Long_Distance_Charges'].value_counts()"
   ]
  },
  {
   "cell_type": "code",
   "execution_count": 5,
   "metadata": {},
   "outputs": [
    {
     "name": "stderr",
     "output_type": "stream",
     "text": [
      "C:\\Users\\abhin\\AppData\\Local\\Temp\\ipykernel_22336\\1602245396.py:12: FutureWarning: Downcasting behavior in `replace` is deprecated and will be removed in a future version. To retain the old behavior, explicitly call `result.infer_objects(copy=False)`. To opt-in to the future behavior, set `pd.set_option('future.no_silent_downcasting', True)`\n",
      "  df[internet_binary_features] = df[internet_binary_features].replace({'Yes': 1, 'No': 0})\n",
      "C:\\Users\\abhin\\AppData\\Local\\Temp\\ipykernel_22336\\1602245396.py:45: FutureWarning: Downcasting behavior in `replace` is deprecated and will be removed in a future version. To retain the old behavior, explicitly call `result.infer_objects(copy=False)`. To opt-in to the future behavior, set `pd.set_option('future.no_silent_downcasting', True)`\n",
      "  df['Multiple_Lines'] = df['Multiple_Lines'].replace({'Yes': 1, 'No': 0})\n"
     ]
    }
   ],
   "source": [
    "# missing value imputation \n",
    "\n",
    "# part 1 : All internet related columns \n",
    "\n",
    "internet_binary_features = [\n",
    "    'Online_Security', 'Online_Backup', 'Device_Protection_Plan',\n",
    "    'Premium_Tech_Support', 'Streaming_TV', 'Streaming_Movies',\n",
    "    'Streaming_Music', 'Unlimited_Data' ]\n",
    "\n",
    "# Step 1 : Convert the columns with 'No' and 'Yes' values to 0 and 1 respectively\n",
    "\n",
    "df[internet_binary_features] = df[internet_binary_features].replace({'Yes': 1, 'No': 0})\n",
    "\n",
    "# Step 2 : Convert the missing values of internet binary features to 0 if Internet Service = No ( We will overwrite the values later)\n",
    "\n",
    "df.loc[df['Internet_Service'] == 'No', internet_binary_features] = 0\n",
    "\n",
    "# Step 3 : Create summary feature for internet service (Add a default +1 for every one who has internet to differentiate for 0 due no internet or no internet features)\n",
    "\n",
    "df['Num_Internet_Features'] = df[internet_binary_features].sum(axis=1) + 1\n",
    "\n",
    "\n",
    "# missing values handled here \n",
    "df.loc[df['Internet_Service'] == 'No', 'Num_Internet_Features'] = 0\n",
    "\n",
    "# Now handle internet type column ( We will one hot encode this column later)\n",
    "\n",
    "df.loc[df['Internet_Service'] == 'No', 'Internet_Type'] = 'None'\n",
    "\n",
    "# Now handle the avg Avg_Monthly_GB_Download\n",
    "\n",
    "df.loc[df['Internet_Service'] == 'No', 'Avg_Monthly_GB_Download'] = 0\n",
    "\n",
    "# Now we do not need \"Internet service\" column to avoid multicollinearlity and individual internet columns, so we can drop it\n",
    "\n",
    "df.drop('Internet_Service', axis=1, inplace=True)\n",
    "\n",
    "df = df.drop(columns=internet_binary_features)\n",
    "\n",
    "# part 2 : All columns related to phone service \n",
    "\n",
    "df.loc[df['Phone_Service'] == 'No', 'Avg_Monthly_Long_Distance_Charges'] = 0\n",
    "\n",
    "# Step 1: Replace 'Yes'/'No' with 1/0\n",
    "df['Multiple_Lines'] = df['Multiple_Lines'].replace({'Yes': 1, 'No': 0})\n",
    "\n",
    "# Step 2: Set Multiple_Lines = 0 where Phone_Service == 'No' (We will overwrite the values later)\n",
    "df.loc[df['Phone_Service'] == 'No', 'Multiple_Lines'] = 0\n",
    "\n",
    "# Step 3: Create a new feature (Add a deafult +1 , to avoid 0 for No and missing both)\n",
    "df['Has_Multiple_Lines'] = df['Multiple_Lines'] + 1 \n",
    "\n",
    "# Step 4: Set Has_Multiple_Lines = -1 for users with no phone service\n",
    "df.loc[df['Phone_Service'] == 'No', 'Has_Multiple_Lines'] = 0\n",
    "\n",
    "# Step 5: Drop the Multiple_Lines column and phone service column\n",
    "df.drop('Multiple_Lines', axis=1, inplace=True)\n",
    "df.drop('Phone_Service', axis=1, inplace=True)\n",
    "\n",
    "# part 3 : Blank offer means no offer\n",
    "df.loc[df['Offer'].isna() , ['Offer']] = 'No Offer'"
   ]
  },
  {
   "cell_type": "code",
   "execution_count": 6,
   "metadata": {},
   "outputs": [
    {
     "data": {
      "text/plain": [
       "Churn_Category    5174\n",
       "Churn_Reason      5174\n",
       "dtype: int64"
      ]
     },
     "execution_count": 6,
     "metadata": {},
     "output_type": "execute_result"
    }
   ],
   "source": [
    "# Null value check \n",
    "df.isnull().sum()[(df.isnull().sum() > 0).values]"
   ]
  },
  {
   "cell_type": "code",
   "execution_count": 7,
   "metadata": {},
   "outputs": [
    {
     "data": {
      "text/plain": [
       "Num_Internet_Features\n",
       "0.0    1526\n",
       "5.0     880\n",
       "4.0     857\n",
       "3.0     829\n",
       "6.0     826\n",
       "2.0     693\n",
       "7.0     668\n",
       "8.0     458\n",
       "9.0     225\n",
       "1.0      81\n",
       "Name: count, dtype: int64"
      ]
     },
     "execution_count": 7,
     "metadata": {},
     "output_type": "execute_result"
    }
   ],
   "source": [
    "df['Num_Internet_Features'].value_counts()"
   ]
  },
  {
   "cell_type": "code",
   "execution_count": 8,
   "metadata": {},
   "outputs": [],
   "source": [
    "# datatype check\n",
    "df.dtypes\n",
    "\n",
    "# the churn column need to be converted to 0,1\n",
    "\n",
    "condition = [df['Customer_Status'].isin(['Stayed','Joined']),df['Customer_Status'].isin(['Churned'])]\n",
    "\n",
    "df['Churn_status'] = np.select(condition,[0,1],default=0)\n"
   ]
  },
  {
   "cell_type": "code",
   "execution_count": 9,
   "metadata": {},
   "outputs": [
    {
     "data": {
      "text/plain": [
       "Customer_ID                           object\n",
       "Gender                                object\n",
       "Age                                    int64\n",
       "Married                               object\n",
       "Number_of_Dependents                   int64\n",
       "City                                  object\n",
       "Zip_Code                               int64\n",
       "Latitude                             float64\n",
       "Longitude                            float64\n",
       "Number_of_Referrals                    int64\n",
       "Tenure_in_Months                       int64\n",
       "Offer                                 object\n",
       "Avg_Monthly_Long_Distance_Charges    float64\n",
       "Internet_Type                         object\n",
       "Avg_Monthly_GB_Download              float64\n",
       "Contract                              object\n",
       "Paperless_Billing                     object\n",
       "Payment_Method                        object\n",
       "Monthly_Charge                       float64\n",
       "Total_Charges                        float64\n",
       "Total_Refunds                        float64\n",
       "Total_Extra_Data_Charges               int64\n",
       "Total_Long_Distance_Charges          float64\n",
       "Total_Revenue                        float64\n",
       "Customer_Status                       object\n",
       "Churn_Category                        object\n",
       "Churn_Reason                          object\n",
       "Num_Internet_Features                float64\n",
       "Has_Multiple_Lines                   float64\n",
       "Churn_status                           int32\n",
       "dtype: object"
      ]
     },
     "execution_count": 9,
     "metadata": {},
     "output_type": "execute_result"
    }
   ],
   "source": [
    "# data check\n",
    "df.groupby(['Churn_status','Customer_Status']).agg({'Customer_ID': 'count'}).reset_index()\n",
    "#df.groupby('Churn_status')['Customer_Status'].agg({'Customer_id' : 'count'}).reset_index()\n",
    "\n",
    "# data columns check \n",
    "df.dtypes"
   ]
  },
  {
   "cell_type": "code",
   "execution_count": 10,
   "metadata": {},
   "outputs": [],
   "source": [
    "# dump the data to csv\n",
    "df.to_csv('telecom_customer_churn_cleaned.csv', index=False)"
   ]
  }
 ],
 "metadata": {
  "kernelspec": {
   "display_name": "base",
   "language": "python",
   "name": "python3"
  },
  "language_info": {
   "codemirror_mode": {
    "name": "ipython",
    "version": 3
   },
   "file_extension": ".py",
   "mimetype": "text/x-python",
   "name": "python",
   "nbconvert_exporter": "python",
   "pygments_lexer": "ipython3",
   "version": "3.12.4"
  }
 },
 "nbformat": 4,
 "nbformat_minor": 2
}
