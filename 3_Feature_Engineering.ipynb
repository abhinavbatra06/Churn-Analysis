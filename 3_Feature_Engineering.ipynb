{
 "cells": [
  {
   "cell_type": "code",
   "execution_count": 1,
   "metadata": {},
   "outputs": [],
   "source": [
    "import pandas as pd\n",
    "import numpy as np\n",
    "import matplotlib.pyplot as plt\n",
    "from sklearn.preprocessing import StandardScaler\n",
    "#from \n"
   ]
  },
  {
   "cell_type": "code",
   "execution_count": 2,
   "metadata": {},
   "outputs": [
    {
     "data": {
      "text/html": [
       "<div>\n",
       "<style scoped>\n",
       "    .dataframe tbody tr th:only-of-type {\n",
       "        vertical-align: middle;\n",
       "    }\n",
       "\n",
       "    .dataframe tbody tr th {\n",
       "        vertical-align: top;\n",
       "    }\n",
       "\n",
       "    .dataframe thead th {\n",
       "        text-align: right;\n",
       "    }\n",
       "</style>\n",
       "<table border=\"1\" class=\"dataframe\">\n",
       "  <thead>\n",
       "    <tr style=\"text-align: right;\">\n",
       "      <th></th>\n",
       "      <th>Customer_ID</th>\n",
       "      <th>Gender</th>\n",
       "      <th>Age</th>\n",
       "      <th>Married</th>\n",
       "      <th>Number_of_Dependents</th>\n",
       "      <th>City</th>\n",
       "      <th>Zip_Code</th>\n",
       "      <th>Latitude</th>\n",
       "      <th>Longitude</th>\n",
       "      <th>Number_of_Referrals</th>\n",
       "      <th>...</th>\n",
       "      <th>Total_Refunds</th>\n",
       "      <th>Total_Extra_Data_Charges</th>\n",
       "      <th>Total_Long_Distance_Charges</th>\n",
       "      <th>Total_Revenue</th>\n",
       "      <th>Customer_Status</th>\n",
       "      <th>Churn_Category</th>\n",
       "      <th>Churn_Reason</th>\n",
       "      <th>Num_Internet_Features</th>\n",
       "      <th>Has_Multiple_Lines</th>\n",
       "      <th>Churn_status</th>\n",
       "    </tr>\n",
       "  </thead>\n",
       "  <tbody>\n",
       "    <tr>\n",
       "      <th>0</th>\n",
       "      <td>0002-ORFBO</td>\n",
       "      <td>Female</td>\n",
       "      <td>37</td>\n",
       "      <td>Yes</td>\n",
       "      <td>0</td>\n",
       "      <td>Frazier Park</td>\n",
       "      <td>93225</td>\n",
       "      <td>34.827662</td>\n",
       "      <td>-118.999073</td>\n",
       "      <td>2</td>\n",
       "      <td>...</td>\n",
       "      <td>0.00</td>\n",
       "      <td>0</td>\n",
       "      <td>381.51</td>\n",
       "      <td>974.81</td>\n",
       "      <td>Stayed</td>\n",
       "      <td>NaN</td>\n",
       "      <td>NaN</td>\n",
       "      <td>5.0</td>\n",
       "      <td>1.0</td>\n",
       "      <td>0</td>\n",
       "    </tr>\n",
       "    <tr>\n",
       "      <th>1</th>\n",
       "      <td>0003-MKNFE</td>\n",
       "      <td>Male</td>\n",
       "      <td>46</td>\n",
       "      <td>No</td>\n",
       "      <td>0</td>\n",
       "      <td>Glendale</td>\n",
       "      <td>91206</td>\n",
       "      <td>34.162515</td>\n",
       "      <td>-118.203869</td>\n",
       "      <td>0</td>\n",
       "      <td>...</td>\n",
       "      <td>38.33</td>\n",
       "      <td>10</td>\n",
       "      <td>96.21</td>\n",
       "      <td>610.28</td>\n",
       "      <td>Stayed</td>\n",
       "      <td>NaN</td>\n",
       "      <td>NaN</td>\n",
       "      <td>3.0</td>\n",
       "      <td>2.0</td>\n",
       "      <td>0</td>\n",
       "    </tr>\n",
       "    <tr>\n",
       "      <th>2</th>\n",
       "      <td>0004-TLHLJ</td>\n",
       "      <td>Male</td>\n",
       "      <td>50</td>\n",
       "      <td>No</td>\n",
       "      <td>0</td>\n",
       "      <td>Costa Mesa</td>\n",
       "      <td>92627</td>\n",
       "      <td>33.645672</td>\n",
       "      <td>-117.922613</td>\n",
       "      <td>0</td>\n",
       "      <td>...</td>\n",
       "      <td>0.00</td>\n",
       "      <td>0</td>\n",
       "      <td>134.60</td>\n",
       "      <td>415.45</td>\n",
       "      <td>Churned</td>\n",
       "      <td>Competitor</td>\n",
       "      <td>Competitor had better devices</td>\n",
       "      <td>3.0</td>\n",
       "      <td>1.0</td>\n",
       "      <td>1</td>\n",
       "    </tr>\n",
       "    <tr>\n",
       "      <th>3</th>\n",
       "      <td>0011-IGKFF</td>\n",
       "      <td>Male</td>\n",
       "      <td>78</td>\n",
       "      <td>Yes</td>\n",
       "      <td>0</td>\n",
       "      <td>Martinez</td>\n",
       "      <td>94553</td>\n",
       "      <td>38.014457</td>\n",
       "      <td>-122.115432</td>\n",
       "      <td>1</td>\n",
       "      <td>...</td>\n",
       "      <td>0.00</td>\n",
       "      <td>0</td>\n",
       "      <td>361.66</td>\n",
       "      <td>1599.51</td>\n",
       "      <td>Churned</td>\n",
       "      <td>Dissatisfaction</td>\n",
       "      <td>Product dissatisfaction</td>\n",
       "      <td>6.0</td>\n",
       "      <td>1.0</td>\n",
       "      <td>1</td>\n",
       "    </tr>\n",
       "    <tr>\n",
       "      <th>4</th>\n",
       "      <td>0013-EXCHZ</td>\n",
       "      <td>Female</td>\n",
       "      <td>75</td>\n",
       "      <td>Yes</td>\n",
       "      <td>0</td>\n",
       "      <td>Camarillo</td>\n",
       "      <td>93010</td>\n",
       "      <td>34.227846</td>\n",
       "      <td>-119.079903</td>\n",
       "      <td>3</td>\n",
       "      <td>...</td>\n",
       "      <td>0.00</td>\n",
       "      <td>0</td>\n",
       "      <td>22.14</td>\n",
       "      <td>289.54</td>\n",
       "      <td>Churned</td>\n",
       "      <td>Dissatisfaction</td>\n",
       "      <td>Network reliability</td>\n",
       "      <td>4.0</td>\n",
       "      <td>1.0</td>\n",
       "      <td>1</td>\n",
       "    </tr>\n",
       "  </tbody>\n",
       "</table>\n",
       "<p>5 rows × 30 columns</p>\n",
       "</div>"
      ],
      "text/plain": [
       "  Customer_ID  Gender  Age Married  Number_of_Dependents          City  \\\n",
       "0  0002-ORFBO  Female   37     Yes                     0  Frazier Park   \n",
       "1  0003-MKNFE    Male   46      No                     0      Glendale   \n",
       "2  0004-TLHLJ    Male   50      No                     0    Costa Mesa   \n",
       "3  0011-IGKFF    Male   78     Yes                     0      Martinez   \n",
       "4  0013-EXCHZ  Female   75     Yes                     0     Camarillo   \n",
       "\n",
       "   Zip_Code   Latitude   Longitude  Number_of_Referrals  ...  Total_Refunds  \\\n",
       "0     93225  34.827662 -118.999073                    2  ...           0.00   \n",
       "1     91206  34.162515 -118.203869                    0  ...          38.33   \n",
       "2     92627  33.645672 -117.922613                    0  ...           0.00   \n",
       "3     94553  38.014457 -122.115432                    1  ...           0.00   \n",
       "4     93010  34.227846 -119.079903                    3  ...           0.00   \n",
       "\n",
       "  Total_Extra_Data_Charges  Total_Long_Distance_Charges Total_Revenue  \\\n",
       "0                        0                       381.51        974.81   \n",
       "1                       10                        96.21        610.28   \n",
       "2                        0                       134.60        415.45   \n",
       "3                        0                       361.66       1599.51   \n",
       "4                        0                        22.14        289.54   \n",
       "\n",
       "   Customer_Status   Churn_Category                   Churn_Reason  \\\n",
       "0           Stayed              NaN                            NaN   \n",
       "1           Stayed              NaN                            NaN   \n",
       "2          Churned       Competitor  Competitor had better devices   \n",
       "3          Churned  Dissatisfaction        Product dissatisfaction   \n",
       "4          Churned  Dissatisfaction            Network reliability   \n",
       "\n",
       "  Num_Internet_Features  Has_Multiple_Lines  Churn_status  \n",
       "0                   5.0                 1.0             0  \n",
       "1                   3.0                 2.0             0  \n",
       "2                   3.0                 1.0             1  \n",
       "3                   6.0                 1.0             1  \n",
       "4                   4.0                 1.0             1  \n",
       "\n",
       "[5 rows x 30 columns]"
      ]
     },
     "execution_count": 2,
     "metadata": {},
     "output_type": "execute_result"
    }
   ],
   "source": [
    "# import data \n",
    "\n",
    "df = pd.read_csv('telecom_customer_churn_cleaned.csv')\n",
    "df.head()\n"
   ]
  },
  {
   "cell_type": "code",
   "execution_count": 3,
   "metadata": {},
   "outputs": [
    {
     "data": {
      "text/plain": [
       "Index(['Customer_ID', 'Gender', 'Age', 'Married', 'Number_of_Dependents',\n",
       "       'City', 'Zip_Code', 'Latitude', 'Longitude', 'Number_of_Referrals',\n",
       "       'Tenure_in_Months', 'Offer', 'Avg_Monthly_Long_Distance_Charges',\n",
       "       'Internet_Type', 'Avg_Monthly_GB_Download', 'Contract',\n",
       "       'Paperless_Billing', 'Payment_Method', 'Monthly_Charge',\n",
       "       'Total_Charges', 'Total_Refunds', 'Total_Extra_Data_Charges',\n",
       "       'Total_Long_Distance_Charges', 'Total_Revenue', 'Customer_Status',\n",
       "       'Churn_Category', 'Churn_Reason', 'Num_Internet_Features',\n",
       "       'Has_Multiple_Lines', 'Churn_status'],\n",
       "      dtype='object')"
      ]
     },
     "execution_count": 3,
     "metadata": {},
     "output_type": "execute_result"
    }
   ],
   "source": [
    "df.columns"
   ]
  },
  {
   "cell_type": "code",
   "execution_count": 4,
   "metadata": {},
   "outputs": [
    {
     "data": {
      "text/plain": [
       "Index(['Gender', 'Age', 'Married', 'Number_of_Dependents',\n",
       "       'Number_of_Referrals', 'Tenure_in_Months', 'Offer',\n",
       "       'Avg_Monthly_Long_Distance_Charges', 'Internet_Type',\n",
       "       'Avg_Monthly_GB_Download', 'Contract', 'Paperless_Billing',\n",
       "       'Payment_Method', 'Num_Internet_Features', 'Has_Multiple_Lines',\n",
       "       'Churn_status'],\n",
       "      dtype='object')"
      ]
     },
     "execution_count": 4,
     "metadata": {},
     "output_type": "execute_result"
    }
   ],
   "source": [
    "# removing revenue and monthly charge because it is highly corrleated with tenure (Checked in the  last cell)\n",
    "# Removing geography based features for now (Not part of the scope)\n",
    "# Churn reason and Churn Category are removed because very sparsely populated \n",
    "\n",
    "to_remove = ['Customer_ID','City', 'Zip_Code', 'Latitude', 'Longitude' ,'Total_Charges', 'Total_Refunds', 'Total_Extra_Data_Charges',\n",
    "       'Total_Long_Distance_Charges','Churn_Category', 'Churn_Reason' ,'Customer_Status' , 'Total_Revenue', 'Monthly_Charge']\n",
    "\n",
    "# filtering out the columns we will use for the analysis\n",
    "\n",
    "columns_list = [col for col in df.columns if col not in to_remove]\n",
    "\n",
    "df_1 = df[columns_list]\n",
    "df_1.head()\n",
    "\n",
    "df_1.columns\n"
   ]
  },
  {
   "cell_type": "code",
   "execution_count": 5,
   "metadata": {},
   "outputs": [],
   "source": [
    "# This is the template we expect to get from the user ( Will need this while making GUI )\n",
    "\n",
    "df_1.to_csv('data_input_test.csv', index=False)"
   ]
  },
  {
   "cell_type": "code",
   "execution_count": 6,
   "metadata": {},
   "outputs": [
    {
     "name": "stdout",
     "output_type": "stream",
     "text": [
      "The numerical columns are - \n",
      "  ['Age', 'Number_of_Dependents', 'Number_of_Referrals', 'Avg_Monthly_Long_Distance_Charges', 'Avg_Monthly_GB_Download', 'Num_Internet_Features', 'Has_Multiple_Lines']\n"
     ]
    }
   ],
   "source": [
    "# Numerical columns \n",
    "\n",
    "# All the numerical variables in the dataset\n",
    "numerical_columns = df_1.select_dtypes(include=['int64', 'float64']).columns.tolist()\n",
    "\n",
    "# remove Churn_status and Tenure_in_Months\n",
    "\n",
    "numerical_columns.remove('Churn_status')\n",
    "numerical_columns.remove('Tenure_in_Months')\n",
    "\n",
    "print(\"The numerical columns are - \\n \" , numerical_columns)\n",
    "\n",
    "# Feature scaling the numerical variables\n",
    "\n",
    "#scaler = StandardScaler()\n",
    "\n",
    "#df_1[numerical_columns] = scaler.fit_transform(df_1[numerical_columns])\n"
   ]
  },
  {
   "cell_type": "code",
   "execution_count": 7,
   "metadata": {},
   "outputs": [
    {
     "name": "stdout",
     "output_type": "stream",
     "text": [
      "Categorical columns are:  ['Gender', 'Married', 'Offer', 'Internet_Type', 'Contract', 'Paperless_Billing', 'Payment_Method']\n"
     ]
    }
   ],
   "source": [
    "# All the categorical variables in the dataset\n",
    "\n",
    "categorical_columns = df_1.select_dtypes(include=['object']).columns.tolist()\n",
    "\n",
    "print(\"Categorical columns are: \", categorical_columns)"
   ]
  },
  {
   "cell_type": "code",
   "execution_count": 8,
   "metadata": {},
   "outputs": [
    {
     "name": "stdout",
     "output_type": "stream",
     "text": [
      "The variables with 2 categories ['Gender', 'Married', 'Paperless_Billing']\n"
     ]
    }
   ],
   "source": [
    "# encoding categorical variables with 2 categories\n",
    "\n",
    "two_cat = []\n",
    "\n",
    "# finding the columns with 2 categories\n",
    "\n",
    "for i in categorical_columns:\n",
    "    #print(i)\n",
    "    #print(df_1[i].nunique())\n",
    "    if df_1[i].nunique() == 2:\n",
    "        two_cat.append(i)\n",
    "\n",
    "print(\"The variables with 2 categories\" , two_cat)\n",
    "\n"
   ]
  },
  {
   "cell_type": "code",
   "execution_count": 9,
   "metadata": {},
   "outputs": [
    {
     "name": "stdout",
     "output_type": "stream",
     "text": [
      "Encoding completed\n"
     ]
    }
   ],
   "source": [
    "# Encoding the categorical variables with 2 categories\n",
    "\n",
    "gen_conditions = [df_1['Gender'] == 'Male',df_1['Gender'] == 'Female']\n",
    "married_conditions = [df_1['Married'] == 'Yes',df_1['Married'] == 'No']\n",
    "paper_conditions = [df_1['Paperless_Billing'] == 'Yes',df_1['Paperless_Billing'] == 'No']\n",
    "\n",
    "\n",
    "\n",
    "df_2 = df_1.assign(\n",
    "    gender_e = np.select(gen_conditions, [1, 0], default=0),\n",
    "    married_e = np.select(married_conditions, [1, 0], default=0),\n",
    "    #phone_e = np.select(phone_conditions, [1, 0], default=0),\n",
    "    #internet_e = np.select(internet_conditions, [1, 0], default=0),\n",
    "    paper_e = np.select(paper_conditions, [1, 0], default=0)\n",
    ")\n",
    "\n",
    "print(\"Encoding completed\")"
   ]
  },
  {
   "cell_type": "code",
   "execution_count": 10,
   "metadata": {},
   "outputs": [
    {
     "name": "stdout",
     "output_type": "stream",
     "text": [
      "Variables with more than 2 categories ['Offer', 'Internet_Type', 'Contract', 'Payment_Method']\n"
     ]
    }
   ],
   "source": [
    "# Encoding the categorical variables with more than 2 categories\n",
    "\n",
    "multiple_cat = []\n",
    "\n",
    "# finding the columns with 3 categories\n",
    "\n",
    "for i in categorical_columns:\n",
    "    #print(i)\n",
    "    #print(df_1[i].nunique())\n",
    "    if df_2[i].nunique() >= 3:\n",
    "        multiple_cat.append(i)\n",
    "\n",
    "print(\"Variables with more than 2 categories\" , multiple_cat)\n",
    "\n",
    "# remove customer_id "
   ]
  },
  {
   "cell_type": "code",
   "execution_count": 11,
   "metadata": {},
   "outputs": [
    {
     "name": "stdout",
     "output_type": "stream",
     "text": [
      "Offer encoding done\n"
     ]
    }
   ],
   "source": [
    "# Encoding offer \n",
    "\n",
    "\"\"\"\n",
    "We are NOT one hot encoding offer because one hot encoded offer (offer A , B , C) \n",
    "had very poor residual dsitr i.e Offer A : 0 and Offer A : 1 had high negative residual \n",
    "(checked in the residual plot after fitting the model) , so simplying it to offer and no offer (0 and 1)\n",
    "\n",
    "\"\"\"\n",
    "\n",
    "conditions = [\n",
    "    df_2['Offer'].isin(['Offer A', 'Offer B', 'Offer C', 'Offer D', 'Offer E'])\n",
    "]\n",
    "\n",
    "choices = [1]  # Value when condition is True\n",
    "\n",
    "df_2['offer_e'] = np.select(conditions, choices, default=0)\n",
    "\n",
    "# drop offer from the dataframe and multiple cat list\n",
    "\n",
    "df_2.drop(columns = 'Offer', inplace = True)\n",
    "\n",
    "multiple_cat.remove('Offer')\n",
    "\n",
    "print(\"Offer encoding done\")\n"
   ]
  },
  {
   "cell_type": "code",
   "execution_count": 12,
   "metadata": {},
   "outputs": [],
   "source": [
    "# Encoding \"2 year contract\" & \"Payment_Method\" - Similar reasons as \"offer\"\n",
    "\n",
    "df_2['Contract_e'] = df_2['Contract'].isin(['Two Year','One Year']).astype(int)\n",
    "\n",
    "df_2['Payment_Method_e'] = df_2['Payment_Method'].isin(['Credit Card']).astype(int)\n",
    "\n",
    "multiple_cat.remove('Contract')\n",
    "\n",
    "multiple_cat.remove('Payment_Method')\n",
    "\n",
    "df_2.drop(columns=['Contract','Payment_Method'] , inplace = True)\n"
   ]
  },
  {
   "cell_type": "code",
   "execution_count": null,
   "metadata": {},
   "outputs": [],
   "source": []
  },
  {
   "cell_type": "code",
   "execution_count": 13,
   "metadata": {},
   "outputs": [
    {
     "data": {
      "text/plain": [
       "Index(['Gender', 'Age', 'Married', 'Number_of_Dependents',\n",
       "       'Number_of_Referrals', 'Tenure_in_Months',\n",
       "       'Avg_Monthly_Long_Distance_Charges', 'Avg_Monthly_GB_Download',\n",
       "       'Paperless_Billing', 'Num_Internet_Features', 'Has_Multiple_Lines',\n",
       "       'Churn_status', 'gender_e', 'married_e', 'paper_e', 'offer_e',\n",
       "       'Contract_e', 'Payment_Method_e', 'Internet_Type_DSL',\n",
       "       'Internet_Type_Fiber Optic'],\n",
       "      dtype='object')"
      ]
     },
     "execution_count": 13,
     "metadata": {},
     "output_type": "execute_result"
    }
   ],
   "source": [
    "\n",
    "# One-hot encoding columns with more than 2 categories (Except the ones we handled otherwise)\n",
    "\n",
    "df_3 = pd.get_dummies(df_2, columns=multiple_cat, drop_first=True , dtype='int')\n",
    "\n",
    "df_3.head()\n",
    "\n",
    "df_3.columns"
   ]
  },
  {
   "cell_type": "code",
   "execution_count": 14,
   "metadata": {},
   "outputs": [],
   "source": [
    "# final column list ( Removed columns are the ones which are already encoded)\n",
    "\n",
    "final_columns = [col for col in df_3.columns if col not in ['Gender', 'Married', 'Phone_Service', 'Internet_Service','Paperless_Billing']]"
   ]
  },
  {
   "cell_type": "code",
   "execution_count": 15,
   "metadata": {},
   "outputs": [
    {
     "data": {
      "text/html": [
       "<div>\n",
       "<style scoped>\n",
       "    .dataframe tbody tr th:only-of-type {\n",
       "        vertical-align: middle;\n",
       "    }\n",
       "\n",
       "    .dataframe tbody tr th {\n",
       "        vertical-align: top;\n",
       "    }\n",
       "\n",
       "    .dataframe thead th {\n",
       "        text-align: right;\n",
       "    }\n",
       "</style>\n",
       "<table border=\"1\" class=\"dataframe\">\n",
       "  <thead>\n",
       "    <tr style=\"text-align: right;\">\n",
       "      <th></th>\n",
       "      <th>Age</th>\n",
       "      <th>Number_of_Dependents</th>\n",
       "      <th>Number_of_Referrals</th>\n",
       "      <th>Tenure_in_Months</th>\n",
       "      <th>Avg_Monthly_Long_Distance_Charges</th>\n",
       "      <th>Avg_Monthly_GB_Download</th>\n",
       "      <th>Num_Internet_Features</th>\n",
       "      <th>Has_Multiple_Lines</th>\n",
       "      <th>Churn_status</th>\n",
       "      <th>gender_e</th>\n",
       "      <th>married_e</th>\n",
       "      <th>paper_e</th>\n",
       "      <th>offer_e</th>\n",
       "      <th>Contract_e</th>\n",
       "      <th>Payment_Method_e</th>\n",
       "      <th>Internet_Type_DSL</th>\n",
       "      <th>Internet_Type_Fiber Optic</th>\n",
       "    </tr>\n",
       "  </thead>\n",
       "  <tbody>\n",
       "    <tr>\n",
       "      <th>0</th>\n",
       "      <td>37</td>\n",
       "      <td>0</td>\n",
       "      <td>2</td>\n",
       "      <td>9</td>\n",
       "      <td>42.39</td>\n",
       "      <td>16.0</td>\n",
       "      <td>5.0</td>\n",
       "      <td>1.0</td>\n",
       "      <td>0</td>\n",
       "      <td>0</td>\n",
       "      <td>1</td>\n",
       "      <td>1</td>\n",
       "      <td>0</td>\n",
       "      <td>1</td>\n",
       "      <td>1</td>\n",
       "      <td>0</td>\n",
       "      <td>0</td>\n",
       "    </tr>\n",
       "    <tr>\n",
       "      <th>1</th>\n",
       "      <td>46</td>\n",
       "      <td>0</td>\n",
       "      <td>0</td>\n",
       "      <td>9</td>\n",
       "      <td>10.69</td>\n",
       "      <td>10.0</td>\n",
       "      <td>3.0</td>\n",
       "      <td>2.0</td>\n",
       "      <td>0</td>\n",
       "      <td>1</td>\n",
       "      <td>0</td>\n",
       "      <td>0</td>\n",
       "      <td>0</td>\n",
       "      <td>0</td>\n",
       "      <td>1</td>\n",
       "      <td>0</td>\n",
       "      <td>0</td>\n",
       "    </tr>\n",
       "    <tr>\n",
       "      <th>2</th>\n",
       "      <td>50</td>\n",
       "      <td>0</td>\n",
       "      <td>0</td>\n",
       "      <td>4</td>\n",
       "      <td>33.65</td>\n",
       "      <td>30.0</td>\n",
       "      <td>3.0</td>\n",
       "      <td>1.0</td>\n",
       "      <td>1</td>\n",
       "      <td>1</td>\n",
       "      <td>0</td>\n",
       "      <td>1</td>\n",
       "      <td>1</td>\n",
       "      <td>0</td>\n",
       "      <td>0</td>\n",
       "      <td>0</td>\n",
       "      <td>1</td>\n",
       "    </tr>\n",
       "    <tr>\n",
       "      <th>3</th>\n",
       "      <td>78</td>\n",
       "      <td>0</td>\n",
       "      <td>1</td>\n",
       "      <td>13</td>\n",
       "      <td>27.82</td>\n",
       "      <td>4.0</td>\n",
       "      <td>6.0</td>\n",
       "      <td>1.0</td>\n",
       "      <td>1</td>\n",
       "      <td>1</td>\n",
       "      <td>1</td>\n",
       "      <td>1</td>\n",
       "      <td>1</td>\n",
       "      <td>0</td>\n",
       "      <td>0</td>\n",
       "      <td>0</td>\n",
       "      <td>1</td>\n",
       "    </tr>\n",
       "    <tr>\n",
       "      <th>4</th>\n",
       "      <td>75</td>\n",
       "      <td>0</td>\n",
       "      <td>3</td>\n",
       "      <td>3</td>\n",
       "      <td>7.38</td>\n",
       "      <td>11.0</td>\n",
       "      <td>4.0</td>\n",
       "      <td>1.0</td>\n",
       "      <td>1</td>\n",
       "      <td>0</td>\n",
       "      <td>1</td>\n",
       "      <td>1</td>\n",
       "      <td>0</td>\n",
       "      <td>0</td>\n",
       "      <td>1</td>\n",
       "      <td>0</td>\n",
       "      <td>1</td>\n",
       "    </tr>\n",
       "  </tbody>\n",
       "</table>\n",
       "</div>"
      ],
      "text/plain": [
       "   Age  Number_of_Dependents  Number_of_Referrals  Tenure_in_Months  \\\n",
       "0   37                     0                    2                 9   \n",
       "1   46                     0                    0                 9   \n",
       "2   50                     0                    0                 4   \n",
       "3   78                     0                    1                13   \n",
       "4   75                     0                    3                 3   \n",
       "\n",
       "   Avg_Monthly_Long_Distance_Charges  Avg_Monthly_GB_Download  \\\n",
       "0                              42.39                     16.0   \n",
       "1                              10.69                     10.0   \n",
       "2                              33.65                     30.0   \n",
       "3                              27.82                      4.0   \n",
       "4                               7.38                     11.0   \n",
       "\n",
       "   Num_Internet_Features  Has_Multiple_Lines  Churn_status  gender_e  \\\n",
       "0                    5.0                 1.0             0         0   \n",
       "1                    3.0                 2.0             0         1   \n",
       "2                    3.0                 1.0             1         1   \n",
       "3                    6.0                 1.0             1         1   \n",
       "4                    4.0                 1.0             1         0   \n",
       "\n",
       "   married_e  paper_e  offer_e  Contract_e  Payment_Method_e  \\\n",
       "0          1        1        0           1                 1   \n",
       "1          0        0        0           0                 1   \n",
       "2          0        1        1           0                 0   \n",
       "3          1        1        1           0                 0   \n",
       "4          1        1        0           0                 1   \n",
       "\n",
       "   Internet_Type_DSL  Internet_Type_Fiber Optic  \n",
       "0                  0                          0  \n",
       "1                  0                          0  \n",
       "2                  0                          1  \n",
       "3                  0                          1  \n",
       "4                  0                          1  "
      ]
     },
     "execution_count": 15,
     "metadata": {},
     "output_type": "execute_result"
    }
   ],
   "source": [
    "df_4 = df_3[final_columns]\n",
    "df_4.head()"
   ]
  },
  {
   "cell_type": "code",
   "execution_count": 16,
   "metadata": {},
   "outputs": [
    {
     "data": {
      "text/plain": [
       "Index(['Age', 'Number_of_Dependents', 'Number_of_Referrals',\n",
       "       'Tenure_in_Months', 'Avg_Monthly_Long_Distance_Charges',\n",
       "       'Avg_Monthly_GB_Download', 'Num_Internet_Features',\n",
       "       'Has_Multiple_Lines', 'Churn_status', 'gender_e', 'married_e',\n",
       "       'paper_e', 'offer_e', 'Contract_e', 'Payment_Method_e',\n",
       "       'Internet_Type_DSL', 'Internet_Type_Fiber Optic'],\n",
       "      dtype='object')"
      ]
     },
     "execution_count": 16,
     "metadata": {},
     "output_type": "execute_result"
    }
   ],
   "source": [
    "df_4.columns"
   ]
  },
  {
   "cell_type": "code",
   "execution_count": 17,
   "metadata": {},
   "outputs": [],
   "source": [
    "# Dump the data to be used to fit the model\n",
    "\n",
    "df_4.to_csv('telecom_customer_churn_cleaned_encoded.csv', index=False)"
   ]
  },
  {
   "cell_type": "code",
   "execution_count": 18,
   "metadata": {},
   "outputs": [
    {
     "name": "stdout",
     "output_type": "stream",
     "text": [
      "Number_of_Referrals ↔ married_e | correlation = 0.673\n",
      "Tenure_in_Months ↔ Contract_e | correlation = 0.628\n"
     ]
    }
   ],
   "source": [
    "### Correlation check \n",
    "\n",
    "\n",
    "# Compute correlation matrix\n",
    "corr_matrix = df_4.corr().abs()\n",
    "\n",
    "# Loop through upper triangle and print highly correlated pairs\n",
    "threshold = 0.5 # You can change this to 0.8, 0.95, etc.\n",
    "printed = set()\n",
    "\n",
    "for i in range(len(corr_matrix.columns)):\n",
    "    for j in range(i + 1, len(corr_matrix.columns)):\n",
    "        col1 = corr_matrix.columns[i]\n",
    "        col2 = corr_matrix.columns[j]\n",
    "        corr_val = corr_matrix.iloc[i, j]\n",
    "        if corr_val > threshold:\n",
    "            print(f\"{col1} ↔ {col2} | correlation = {corr_val:.3f}\")\n"
   ]
  }
 ],
 "metadata": {
  "kernelspec": {
   "display_name": "Python 3",
   "language": "python",
   "name": "python3"
  },
  "language_info": {
   "codemirror_mode": {
    "name": "ipython",
    "version": 3
   },
   "file_extension": ".py",
   "mimetype": "text/x-python",
   "name": "python",
   "nbconvert_exporter": "python",
   "pygments_lexer": "ipython3",
   "version": "3.13.1"
  }
 },
 "nbformat": 4,
 "nbformat_minor": 2
}
